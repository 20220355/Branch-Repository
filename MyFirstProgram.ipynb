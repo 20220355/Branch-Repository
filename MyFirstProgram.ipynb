{
  "nbformat": 4,
  "nbformat_minor": 0,
  "metadata": {
    "colab": {
      "provenance": [],
      "mount_file_id": "1NjvdZ_73LFKqUgBML_QUTUKHsZaylIJX",
      "authorship_tag": "ABX9TyO18FSdh4Y78mk0g19XZVry",
      "include_colab_link": true
    },
    "kernelspec": {
      "name": "python3",
      "display_name": "Python 3"
    },
    "language_info": {
      "name": "python"
    },
    "gpuClass": "standard"
  },
  "cells": [
    {
      "cell_type": "markdown",
      "metadata": {
        "id": "view-in-github",
        "colab_type": "text"
      },
      "source": [
        "<a href=\"https://colab.research.google.com/github/Hyungu0211/Branch-Repository/blob/main/MyFirstProgram.ipynb\" target=\"_parent\"><img src=\"https://colab.research.google.com/assets/colab-badge.svg\" alt=\"Open In Colab\"/></a>"
      ]
    },
    {
      "cell_type": "markdown",
      "source": [
        "**The basic python program1**"
      ],
      "metadata": {
        "id": "YhsIOWfRMHQ2"
      }
    },
    {
      "cell_type": "code",
      "execution_count": 5,
      "metadata": {
        "colab": {
          "base_uri": "https://localhost:8080/"
        },
        "id": "JWe8UEAwKl4c",
        "outputId": "ca9ec07f-eac7-414d-f4e2-621f9cce1521"
      },
      "outputs": [
        {
          "output_type": "stream",
          "name": "stdout",
          "text": [
            "This program is my first program written by Google Colab\n",
            "2.9.2\n",
            "1.21.6\n",
            "15\n",
            "5\n",
            "50\n",
            "2.0\n"
          ]
        }
      ],
      "source": [
        "import tensorflow as tf\n",
        "import numpy as np\n",
        "\n",
        "print('This program is my first program written by Google Colab')\n",
        "\n",
        "print(tf.__version__)\n",
        "print(np.__version__)\n",
        "\n",
        "a=10\n",
        "b=5\n",
        "\n",
        "print(a+b)\n",
        "print(a-b)\n",
        "print(a*b)\n",
        "print(a/b)"
      ]
    },
    {
      "cell_type": "code",
      "source": [
        "import torch\n",
        "import torch.nn as nn\n",
        "\n",
        "#GPU 사용 설정\n",
        "device = 'cuda' if torch.cuda.is_avilable() else 'cpu'\n",
        "\n",
        "#Random 함수 사용을 위한 seed value 설정\n",
        "torch.manual_seed(2022)\n",
        "if device == 'cuda':\n",
        "    torch.cuda.manual_seed_all(2022)\n",
        "#학습 데이터 설정(X: Input tensors, Y: Output tensors,FloatTensor: 자료형이 float인 tensor를 생성)\n",
        "X = torch.FloatTensor([[0,0],[0,1],[1,0],[1,1]]).to(device)\n",
        "Y = torch.FloatTensor([[0],[1],[1],[0]]).to(device)\n",
        "#Perceptron의 연결 구조 설정\n",
        "model = nn.Sequential(nn.Linear(2,1,bias=True), nn.Sigmoid()).to(device)\n",
        "#손실 함수와 학습 알고리즘 설정\n",
        "loss_func = torch.nn.BCELoss().to(device)\n",
        "optimizer = torch.optim.SGD(model.parameters(), lr=0.01)\n",
        "#perceptron 학습\n",
        "for step in range(20001):\n",
        "    optimizer.zero_grad()\n",
        "\n",
        "    Y_hat = model(X)\n",
        "    loss = loss_func(Y_hat, Y)\n",
        "    loss.backward()\n",
        "    optimizer.step()\n",
        "\n",
        "    if step % 1000== 0:\n",
        "        print(step, loss.item())\n",
        "        "
      ],
      "metadata": {
        "id": "dCMmpC58aL6b"
      },
      "execution_count": null,
      "outputs": []
    }
  ]
}